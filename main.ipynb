{
  "nbformat": 4,
  "nbformat_minor": 0,
  "metadata": {
    "colab": {
      "provenance": [],
      "authorship_tag": "ABX9TyNhuGteSIeY6xJm2WHyv9Eu",
      "include_colab_link": true
    },
    "kernelspec": {
      "name": "python3",
      "display_name": "Python 3"
    },
    "language_info": {
      "name": "python"
    }
  },
  "cells": [
    {
      "cell_type": "markdown",
      "metadata": {
        "id": "view-in-github",
        "colab_type": "text"
      },
      "source": [
        "<a href=\"https://colab.research.google.com/github/mfairch/adventofcode_2023/blob/main/main.ipynb\" target=\"_parent\"><img src=\"https://colab.research.google.com/assets/colab-badge.svg\" alt=\"Open In Colab\"/></a>"
      ]
    },
    {
      "cell_type": "markdown",
      "source": [
        "### **Day 1**"
      ],
      "metadata": {
        "id": "6CX3Tqfv75NB"
      }
    },
    {
      "cell_type": "code",
      "execution_count": null,
      "metadata": {
        "id": "6OWRYDknGtbf"
      },
      "outputs": [],
      "source": []
    },
    {
      "cell_type": "markdown",
      "source": [
        "### **Day 2**"
      ],
      "metadata": {
        "id": "jCv4lsta7_YO"
      }
    },
    {
      "cell_type": "code",
      "source": [],
      "metadata": {
        "id": "izvKcnIs8A4d"
      },
      "execution_count": null,
      "outputs": []
    },
    {
      "cell_type": "markdown",
      "source": [
        "### **Day 3**"
      ],
      "metadata": {
        "id": "g6ym_JtQ8BR8"
      }
    },
    {
      "cell_type": "code",
      "source": [],
      "metadata": {
        "id": "f_9bBIOJ8JFq"
      },
      "execution_count": null,
      "outputs": []
    },
    {
      "cell_type": "markdown",
      "source": [
        "### **Day 4**"
      ],
      "metadata": {
        "id": "0Nk--DgY8JU4"
      }
    },
    {
      "cell_type": "code",
      "source": [],
      "metadata": {
        "id": "NdzYsv1P8KxD"
      },
      "execution_count": null,
      "outputs": []
    },
    {
      "cell_type": "markdown",
      "source": [
        "### **Day 5**"
      ],
      "metadata": {
        "id": "lxQZBM1J8LCN"
      }
    },
    {
      "cell_type": "code",
      "source": [],
      "metadata": {
        "id": "PbgWNmY48LQK"
      },
      "execution_count": null,
      "outputs": []
    },
    {
      "cell_type": "markdown",
      "source": [
        "### **Day 6**"
      ],
      "metadata": {
        "id": "QHZVjs_q8LX2"
      }
    },
    {
      "cell_type": "code",
      "source": [],
      "metadata": {
        "id": "YlJNFx5D8Lfk"
      },
      "execution_count": null,
      "outputs": []
    },
    {
      "cell_type": "markdown",
      "source": [
        "### **Day 7**"
      ],
      "metadata": {
        "id": "RQbjnGBt8LnR"
      }
    },
    {
      "cell_type": "code",
      "source": [],
      "metadata": {
        "id": "VL_ds5ki8Lu-"
      },
      "execution_count": null,
      "outputs": []
    },
    {
      "cell_type": "markdown",
      "source": [
        "### **Day 8**"
      ],
      "metadata": {
        "id": "2ntF4_u_8L2S"
      }
    },
    {
      "cell_type": "code",
      "source": [],
      "metadata": {
        "id": "q1CJWRs_8L-K"
      },
      "execution_count": null,
      "outputs": []
    },
    {
      "cell_type": "markdown",
      "source": [
        "### **Day 9**"
      ],
      "metadata": {
        "id": "l4H3Bi5s8MFE"
      }
    },
    {
      "cell_type": "code",
      "source": [],
      "metadata": {
        "id": "u_OMr6hl8MMY"
      },
      "execution_count": null,
      "outputs": []
    },
    {
      "cell_type": "markdown",
      "source": [
        "### **Day 10**"
      ],
      "metadata": {
        "id": "KgOgOAvZ8MTG"
      }
    },
    {
      "cell_type": "code",
      "source": [],
      "metadata": {
        "id": "IB00pdgy8May"
      },
      "execution_count": null,
      "outputs": []
    },
    {
      "cell_type": "markdown",
      "source": [
        "### **Day 11**"
      ],
      "metadata": {
        "id": "0L8Q3-Yz8MiV"
      }
    },
    {
      "cell_type": "code",
      "source": [],
      "metadata": {
        "id": "BWaW4_Fu8Mud"
      },
      "execution_count": null,
      "outputs": []
    },
    {
      "cell_type": "markdown",
      "source": [
        "### **Day 12**"
      ],
      "metadata": {
        "id": "Ba9i9Aqt8M2A"
      }
    },
    {
      "cell_type": "code",
      "source": [],
      "metadata": {
        "id": "eOWzFuAp8ebX"
      },
      "execution_count": null,
      "outputs": []
    },
    {
      "cell_type": "markdown",
      "source": [
        "### **Day 13**"
      ],
      "metadata": {
        "id": "RyVuZpCs8exO"
      }
    },
    {
      "cell_type": "code",
      "source": [],
      "metadata": {
        "id": "tzJRNam_8e4b"
      },
      "execution_count": null,
      "outputs": []
    },
    {
      "cell_type": "markdown",
      "source": [
        "### **Day 14**"
      ],
      "metadata": {
        "id": "eVxxBzF88e-m"
      }
    },
    {
      "cell_type": "code",
      "source": [],
      "metadata": {
        "id": "ejFNMNud8fEc"
      },
      "execution_count": null,
      "outputs": []
    },
    {
      "cell_type": "markdown",
      "source": [
        "### **Day 15**"
      ],
      "metadata": {
        "id": "mlQSPgtl8fJB"
      }
    },
    {
      "cell_type": "code",
      "source": [],
      "metadata": {
        "id": "Jmsijfxq8fOb"
      },
      "execution_count": null,
      "outputs": []
    },
    {
      "cell_type": "markdown",
      "source": [
        "### **Day 16**"
      ],
      "metadata": {
        "id": "1JXskrrF8fUW"
      }
    },
    {
      "cell_type": "code",
      "source": [],
      "metadata": {
        "id": "rguWQG6k8fZd"
      },
      "execution_count": null,
      "outputs": []
    },
    {
      "cell_type": "markdown",
      "source": [
        "### **Day 17**"
      ],
      "metadata": {
        "id": "XMcuJZCT8fe_"
      }
    },
    {
      "cell_type": "code",
      "source": [],
      "metadata": {
        "id": "qLCkDCjM8fkE"
      },
      "execution_count": null,
      "outputs": []
    },
    {
      "cell_type": "markdown",
      "source": [
        "### **Day 18**"
      ],
      "metadata": {
        "id": "ghq1hCV28fpP"
      }
    },
    {
      "cell_type": "code",
      "source": [],
      "metadata": {
        "id": "htnCd5Vs8fud"
      },
      "execution_count": null,
      "outputs": []
    },
    {
      "cell_type": "markdown",
      "source": [
        "### **Day 19**"
      ],
      "metadata": {
        "id": "xVNJPYOd8fz7"
      }
    },
    {
      "cell_type": "code",
      "source": [],
      "metadata": {
        "id": "CJlr8wB18f5a"
      },
      "execution_count": null,
      "outputs": []
    },
    {
      "cell_type": "markdown",
      "source": [
        "### **Day 20**"
      ],
      "metadata": {
        "id": "tUQmli9r8f-Q"
      }
    },
    {
      "cell_type": "code",
      "source": [],
      "metadata": {
        "id": "0nf3D0Lu8gDt"
      },
      "execution_count": null,
      "outputs": []
    },
    {
      "cell_type": "markdown",
      "source": [
        "### **Day 21**"
      ],
      "metadata": {
        "id": "ZFDiwh6Q8gJF"
      }
    },
    {
      "cell_type": "code",
      "source": [],
      "metadata": {
        "id": "ZhVKDyT-8gO0"
      },
      "execution_count": null,
      "outputs": []
    },
    {
      "cell_type": "markdown",
      "source": [
        "### **Day 22**"
      ],
      "metadata": {
        "id": "rL1JTFoB8gTd"
      }
    },
    {
      "cell_type": "code",
      "source": [],
      "metadata": {
        "id": "A-zI8etE8gZQ"
      },
      "execution_count": null,
      "outputs": []
    },
    {
      "cell_type": "markdown",
      "source": [
        "### **Day 23**"
      ],
      "metadata": {
        "id": "WPRV51S78geh"
      }
    },
    {
      "cell_type": "code",
      "source": [],
      "metadata": {
        "id": "Cn3F2sZ_8gjv"
      },
      "execution_count": null,
      "outputs": []
    },
    {
      "cell_type": "markdown",
      "source": [
        "### **Day 24**"
      ],
      "metadata": {
        "id": "AuzgOKwh8gpl"
      }
    },
    {
      "cell_type": "code",
      "source": [],
      "metadata": {
        "id": "Qs1jhY2j8gwE"
      },
      "execution_count": null,
      "outputs": []
    },
    {
      "cell_type": "markdown",
      "source": [
        "### **Day 25**"
      ],
      "metadata": {
        "id": "a-1lfGQS8g1_"
      }
    },
    {
      "cell_type": "code",
      "source": [],
      "metadata": {
        "id": "9adiTOPK8g7l"
      },
      "execution_count": null,
      "outputs": []
    }
  ]
}
